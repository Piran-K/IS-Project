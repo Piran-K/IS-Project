{
 "cells": [
  {
   "cell_type": "code",
   "execution_count": 3,
   "metadata": {},
   "outputs": [],
   "source": [
    "import nltk\n",
    "import pandas as pd\n",
    "#nltk.download(\"vader_lexicon\", quiet=True)\n",
    "from nltk.sentiment.vader import SentimentIntensityAnalyzer\n",
    "model = SentimentIntensityAnalyzer()"
   ]
  },
  {
   "cell_type": "code",
   "execution_count": 4,
   "metadata": {},
   "outputs": [],
   "source": [
    "def get_sentiment(review):\n",
    "    return model.polarity_scores(review)\n",
    "\n",
    "city_name = \"Jaipur_Jaipur_District_Rajasthan\""
   ]
  },
  {
   "cell_type": "code",
   "execution_count": 5,
   "metadata": {},
   "outputs": [],
   "source": [
    "df = pd.read_csv(city_name + \"_Summarised_Reviews.csv\")\n",
    "\n",
    "compound_score = []\n",
    "normalised_sentiment = []\n",
    "for review in df['Summarised Review']:\n",
    "    score = get_sentiment(review)['compound']\n",
    "    compound_score.append(score)\n",
    "    if score > 0.5:\n",
    "        norm = 5\n",
    "    elif score > 0.1:\n",
    "        norm = 4\n",
    "    elif score > -0.25:\n",
    "        norm = 3\n",
    "    elif score > -0.5:\n",
    "        norm = 2\n",
    "    else:\n",
    "        norm = 1\n",
    "    \n",
    "    normalised_sentiment.append(norm)\n",
    "\n",
    "#print(compound_score)\n",
    "df['Compound Sentiment'] = compound_score\n",
    "df['Normalised Sentiment'] = normalised_sentiment\n",
    "\n",
    "df.to_csv(city_name + \"_Summarised_Reviews_Sentiments.csv\", index = False)"
   ]
  },
  {
   "cell_type": "code",
   "execution_count": 7,
   "metadata": {},
   "outputs": [],
   "source": [
    "df = pd.read_csv(city_name + \"_Limited_Attraction_Reviews.csv\")\n",
    "\n",
    "compound_score = []\n",
    "normalised_sentiment = []\n",
    "for review in df['Review']:\n",
    "    score = get_sentiment(review)['compound']\n",
    "    compound_score.append(score)\n",
    "    if score > 0.5:\n",
    "        norm = 5\n",
    "    elif score > 0.1:\n",
    "        norm = 4\n",
    "    elif score > -0.25:\n",
    "        norm = 3\n",
    "    elif score > -0.5:\n",
    "        norm = 2\n",
    "    else:\n",
    "        norm = 1\n",
    "    \n",
    "    normalised_sentiment.append(norm)\n",
    "\n",
    "#print(compound_score)\n",
    "df['Compound Sentiment'] = compound_score\n",
    "df['Normalised Sentiment'] = normalised_sentiment\n",
    "\n",
    "df.to_csv(city_name + \"_Limited_Attraction_Reviews_Sentiments.csv\", index = False)\n"
   ]
  },
  {
   "cell_type": "code",
   "execution_count": 8,
   "metadata": {},
   "outputs": [],
   "source": [
    "from statistics import mean\n",
    "df = pd.read_csv(city_name + \"_Limited_Attraction_Reviews.csv\")\n",
    "mean_stars = []\n",
    "unique_attractions1 = df['Tourist Attraction'].unique()\n",
    "unique_attractions = [item for item in unique_attractions1 if (item == item) == True]\n",
    "for attraction in unique_attractions:\n",
    "  Truth_Array = (df['Tourist Attraction'] == attraction)\n",
    "  ratings = df[Truth_Array].Rating\n",
    "  num_stars = []\n",
    "  for rating in ratings:\n",
    "      if rating == rating:\n",
    "          num_stars.append(float(rating[:3]))\n",
    "  mean_stars.append(round(mean(num_stars),2))\n",
    "\n",
    "df = pd.read_csv(city_name + \"_Summarised_Reviews_Sentiments.csv\")\n",
    "df['Mean Rating'] = mean_stars\n",
    "df.to_csv(city_name + \"_FINAL.csv\")"
   ]
  },
  {
   "cell_type": "code",
   "execution_count": null,
   "metadata": {},
   "outputs": [],
   "source": []
  }
 ],
 "metadata": {
  "kernelspec": {
   "display_name": "Python 3 (ipykernel)",
   "language": "python",
   "name": "python3"
  },
  "language_info": {
   "codemirror_mode": {
    "name": "ipython",
    "version": 3
   },
   "file_extension": ".py",
   "mimetype": "text/x-python",
   "name": "python",
   "nbconvert_exporter": "python",
   "pygments_lexer": "ipython3",
   "version": "3.9.7"
  },
  "vscode": {
   "interpreter": {
    "hash": "ad2bdc8ecc057115af97d19610ffacc2b4e99fae6737bb82f5d7fb13d2f2c186"
   }
  }
 },
 "nbformat": 4,
 "nbformat_minor": 2
}
